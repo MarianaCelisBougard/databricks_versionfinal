{
 "cells": [
  {
   "cell_type": "markdown",
   "metadata": {
    "application/vnd.databricks.v1+cell": {
     "cellMetadata": {},
     "inputWidgets": {},
     "nuid": "695dc51d-7da5-46c8-8765-76b7fbdfaf41",
     "showTitle": false,
     "tableResultSettingsMap": {},
     "title": ""
    }
   },
   "source": [
    "### Cuaderno ingesta de datos SECOP"
   ]
  },
  {
   "cell_type": "markdown",
   "metadata": {
    "application/vnd.databricks.v1+cell": {
     "cellMetadata": {},
     "inputWidgets": {},
     "nuid": "0c974846-6108-4a33-b0e0-b0913beb0ef9",
     "showTitle": false,
     "tableResultSettingsMap": {},
     "title": ""
    }
   },
   "source": [
    "Este cuaderno tiene como propósito continuar el procesamiento de la base de datos del SECOP, centrándose en la carga masiva de registros a partir del identificador único de cada entidad contratante (NIT). Para ello, se utiliza una lógica que compara los NITs ya cargados con los que aún no han sido incorporados, permitiendo identificar aquellos faltantes. Luego, mediante una consulta específica a la API de datos abiertos del gobierno, se descargan los contratos correspondientes a cada entidad, integrándolos progresivamente en la tabla de almacenamiento intermedio. Este procedimiento incorpora un sistema de reintentos automáticos para garantizar la resiliencia frente a errores de conectividad o saturación del servidor, asegurando así una actualización eficiente, ordenada y escalable de la base de datos. La estrategia adoptada no solo optimiza el uso de recursos, sino que también mejora la trazabilidad y facilita análisis posteriores que dependen de la integridad de los datos recopilados."
   ]
  },
  {
   "cell_type": "code",
   "execution_count": 0,
   "metadata": {
    "application/vnd.databricks.v1+cell": {
     "cellMetadata": {
      "byteLimit": 2048000,
      "rowLimit": 10000
     },
     "inputWidgets": {},
     "nuid": "bf35256b-aa9c-4e8c-b59b-c603868157bb",
     "showTitle": false,
     "tableResultSettingsMap": {},
     "title": ""
    }
   },
   "outputs": [],
   "source": [
    "from sodapy import Socrata\n",
    "\n",
    "#client = Socrata(\"www.datos.gov.co\", None)\n",
    "\n",
    "token = dbutils.secrets.get(\"claves\",\"token_app\")\n",
    "codigo_dataset = dbutils.widgets.get(\"codigo_dataset\").strip()\n",
    "\n",
    "client = Socrata(\"www.datos.gov.co\",str(token),timeout=1000)"
   ]
  },
  {
   "cell_type": "code",
   "execution_count": 0,
   "metadata": {
    "application/vnd.databricks.v1+cell": {
     "cellMetadata": {
      "byteLimit": 2048000,
      "rowLimit": 10000
     },
     "inputWidgets": {},
     "nuid": "0f0758da-e08c-496d-8f9b-d1f9e834589b",
     "showTitle": false,
     "tableResultSettingsMap": {},
     "title": ""
    }
   },
   "outputs": [],
   "source": [
    "df_secop_id=spark.table(\"main.diplomado_datos.ids_contratos_procesos\")\n",
    "lista_entidades=df_secop_id.select(\"nit_de_la_entidad\").distinct().collect()\n",
    "len(list(map(lambda x: x.nit_de_la_entidad,lista_entidades)))"
   ]
  },
  {
   "cell_type": "code",
   "execution_count": 0,
   "metadata": {
    "application/vnd.databricks.v1+cell": {
     "cellMetadata": {
      "byteLimit": 2048000,
      "rowLimit": 10000
     },
     "inputWidgets": {},
     "nuid": "fc347c27-c67b-4af9-a181-9ca46f5beaf1",
     "showTitle": false,
     "tableResultSettingsMap": {},
     "title": ""
    }
   },
   "outputs": [],
   "source": [
    "import time\n",
    "\n",
    "mode_write = \"overwrite\"\n",
    "reintentos = 5\n",
    "\n",
    "for entidad in lista_entidades:\n",
    "  intentos = 0\n",
    "  while intentos < reintentos:\n",
    "    try:\n",
    "      query=\"\"\"\n",
    "      SELECT * WHERE nit_de_la_entidad = '{0}'\n",
    "      \"\"\".format(entidad.nit_de_la_entidad)\n",
    "      print(query)\n",
    "      results_entidad=client.get(codigo_dataset,query=query)\n",
    "      df_total=spark.createDataFrame(results_entidad)\n",
    "      df_total.write \\\n",
    "        .format(\"delta\") \\\n",
    "        .mode(mode_write) \\\n",
    "        .option(\"overwriteSchema\", \"true\") \\\n",
    "        .saveAsTable(\"main.diplomado_datos.secop_bronze\")\n",
    "      mode_write = \"append\"\n",
    "      break\n",
    "    except Exception as e:\n",
    "      intentos += 1\n",
    "      time.sleep(10)\n",
    "      print(\"Error: {0}\".format(e))\n",
    "\n",
    "\n",
    "print(\"Se cargaron todos los contratos\")"
   ]
  },
  {
   "cell_type": "code",
   "execution_count": 0,
   "metadata": {
    "application/vnd.databricks.v1+cell": {
     "cellMetadata": {
      "byteLimit": 2048000,
      "rowLimit": 10000
     },
     "inputWidgets": {},
     "nuid": "3ff088f6-f57a-46c6-9820-7185f1fda9aa",
     "showTitle": false,
     "tableResultSettingsMap": {},
     "title": ""
    }
   },
   "outputs": [],
   "source": [
    "# Cargar los NITs de la tabla original mínima\n",
    "df_ids = spark.table(\"main.diplomado_datos.ids_contratos_procesos\")\n",
    "lista_entidades = df_ids.select(\"nit_de_la_entidad\").distinct().collect()\n",
    "\n",
    "# Cargar los NITs que ya se han cargado en bronze\n",
    "df_bronze = spark.table(\"main.diplomado_datos.secop_bronze\")\n",
    "nits_cargados = [row[\"nit_de_la_entidad\"] for row in df_bronze.select(\"nit_de_la_entidad\").distinct().collect()]\n",
    "\n",
    "# Filtrar los que aún no han sido cargados\n",
    "nits_faltantes = [x.nit_de_la_entidad for x in lista_entidades if x.nit_de_la_entidad not in nits_cargados]\n",
    "\n",
    "print(f\"🔍 NITs faltantes por cargar: {len(nits_faltantes)}\")\n",
    "\n",
    "# ======================================\n",
    "# Cargar solo los NITs faltantes (reintentos por cada uno)\n",
    "# ======================================\n",
    "from time import sleep\n",
    "\n",
    "modo_escritura = \"append\"  # Ya no es overwrite\n",
    "reintentos = 5\n",
    "\n",
    "for nit in nits_faltantes:\n",
    "    intentos = 0\n",
    "    while intentos < reintentos:\n",
    "        try:\n",
    "            query = f\"SELECT * WHERE nit_de_la_entidad = '{nit}'\"\n",
    "            print(query)\n",
    "            resultados = client.get(codigo_dataset, query=query)\n",
    "            df_temp = spark.createDataFrame(resultados)\n",
    "\n",
    "            df_temp.write \\\n",
    "                .format(\"delta\") \\\n",
    "                .mode(modo_escritura) \\\n",
    "                .option(\"overwriteSchema\", \"true\") \\\n",
    "                .saveAsTable(\"main.diplomado_datos.secop_bronze\")\n",
    "\n",
    "            break  # Salta al siguiente NIT\n",
    "        except Exception as e:\n",
    "            intentos += 1\n",
    "            print(f\"Error al cargar NIT {nit} (intento {intentos}): {e}\")\n",
    "            sleep(10)\n",
    "\n",
    "print(\"✅ Finalizó la carga de los registros faltantes.\")"
   ]
  }
 ],
 "metadata": {
  "application/vnd.databricks.v1+notebook": {
   "computePreferences": {
    "hardware": {
     "accelerator": null,
     "gpuPoolId": null,
     "memory": null
    }
   },
   "dashboards": [],
   "environmentMetadata": {
    "base_environment": "",
    "dependencies": [
     "sodapy==2.2.0"
    ],
    "environment_version": "2"
   },
   "inputWidgetPreferences": null,
   "language": "python",
   "notebookMetadata": {
    "pythonIndentUnit": 4
   },
   "notebookName": "Ingesta_datos.ipynb",
   "widgets": {
    "codigo_dataset": {
     "currentValue": "rpmr-utcd",
     "nuid": "38cb30a7-f7a2-42a7-87f1-bb2b2100b9bd",
     "typedWidgetInfo": {
      "autoCreated": false,
      "defaultValue": "",
      "label": "",
      "name": "codigo_dataset",
      "options": {
       "widgetDisplayType": "Text",
       "validationRegex": null
      },
      "parameterDataType": "String"
     },
     "widgetInfo": {
      "widgetType": "text",
      "defaultValue": "",
      "label": "",
      "name": "codigo_dataset",
      "options": {
       "widgetType": "text",
       "autoCreated": false,
       "validationRegex": null
      }
     }
    },
    "token_app": {
     "currentValue": "KwZhcbkekhw5FpAUWVnzvIdVA",
     "nuid": "752dacf4-55d1-4373-878f-efd739db9e72",
     "typedWidgetInfo": {
      "autoCreated": false,
      "defaultValue": "",
      "label": "",
      "name": "token_app",
      "options": {
       "widgetDisplayType": "Text",
       "validationRegex": null
      },
      "parameterDataType": "String"
     },
     "widgetInfo": {
      "widgetType": "text",
      "defaultValue": "",
      "label": "",
      "name": "token_app",
      "options": {
       "widgetType": "text",
       "autoCreated": false,
       "validationRegex": null
      }
     }
    }
   }
  },
  "language_info": {
   "name": "python"
  }
 },
 "nbformat": 4,
 "nbformat_minor": 0
}

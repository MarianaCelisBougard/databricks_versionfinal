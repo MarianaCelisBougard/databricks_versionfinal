{
 "cells": [
  {
   "cell_type": "markdown",
   "metadata": {
    "application/vnd.databricks.v1+cell": {
     "cellMetadata": {},
     "inputWidgets": {},
     "nuid": "3d74eaff-0ad6-455b-8407-008a521944f2",
     "showTitle": false,
     "tableResultSettingsMap": {},
     "title": ""
    }
   },
   "source": [
    "\n",
    "##  Generación de Identificadores Únicos y Validación de Esquema\n",
    "\n",
    "En esta etapa final del procesamiento de datos, se implementaron dos acciones fundamentales orientadas a reforzar la calidad, unicidad y consistencia estructural del dataset consolidado proveniente de SECOP.\n",
    "\n",
    "---\n",
    "\n",
    "### 1.  Creación del Identificador Único `id_sha2`\n",
    "\n",
    "Se generó una nueva columna llamada `id_sha2`, mediante la función criptográfica `sha2` con algoritmo SHA-256, aplicando un `concat_ws` sobre varios campos clave del contrato. El propósito de este identificador es proporcionar una clave técnica y única que permita:\n",
    "\n",
    "* Prevenir duplicados en cargas posteriores.\n",
    "* Facilitar procesos de seguimiento y auditoría.\n",
    "* Trazar la integridad de los registros a través de transformaciones.\n",
    "\n",
    "#### Campos utilizados en la generación del hash:\n",
    "\n",
    "* `codigo_proceso`\n",
    "* `nit_entidad`\n",
    "* `nombre_entidad`\n",
    "* `nombre_proveedor`\n",
    "* `objeto_contrato`\n",
    "* `valor_total`\n",
    "* `fecha_firma`\n",
    "\n",
    "\n",
    "Este identificador se añadió como una nueva columna dentro de la tabla `secop_id_bronze`, permitiendo realizar verificaciones posteriores de duplicidad, integridad referencial o trazabilidad.\n",
    "\n",
    "---\n",
    "\n",
    "### 2.  Comparación de Esquemas entre Tablas\n",
    "\n",
    "Posteriormente, se realizó una verificación técnica entre los esquemas de dos tablas:\n",
    "\n",
    "* `secop_bronze` (tabla de referencia inicial)\n",
    "* `secop_id_bronze` (tabla generada con `id_sha2`)\n",
    "\n",
    "El objetivo fue identificar si durante la transformación se omitieron columnas por error o si existen discrepancias estructurales que puedan afectar el análisis futuro o integridad del modelo de datos.\n",
    "\n",
    "#### Procedimiento:\n",
    "\n",
    "* Se consultó la metadata desde `information_schema.columns`.\n",
    "* Se realizó una comparación de columnas entre ambas tablas.\n",
    "* Se listaron las columnas presentes en `secop_bronze` que no aparecen en `secop_id_bronze`.\n",
    "\n",
    "Este paso asegura que el esquema de la tabla resultante sea compatible con procesos posteriores de análisis, unión con otras tablas o visualizaciones en herramientas como Power BI o Streamlit.\n",
    "\n",
    "---\n",
    "\n",
    "###  Conclusión\n",
    "\n",
    "Con estas acciones se cierra el ciclo técnico de depuración y estandarización de la información proveniente de SECOP, garantizando:\n",
    "\n",
    "* Un identificador único robusto (`id_sha2`)\n",
    "* Integridad estructural entre transformaciones\n",
    "* Preparación para análisis analítico, integración con modelos o dashboards\n",
    "\n",
    "Este proceso refuerza la gobernanza y confiabilidad del dataset consolidado, sentando las bases para futuras fases de análisis predictivo o auditorías automatizadas.\n"
   ]
  }
 ],
 "metadata": {
  "application/vnd.databricks.v1+notebook": {
   "computePreferences": null,
   "dashboards": [],
   "environmentMetadata": {
    "base_environment": "",
    "environment_version": "2"
   },
   "inputWidgetPreferences": null,
   "language": "python",
   "notebookMetadata": {
    "pythonIndentUnit": 4
   },
   "notebookName": "READ.ME",
   "widgets": {}
  },
  "language_info": {
   "name": "python"
  }
 },
 "nbformat": 4,
 "nbformat_minor": 0
}

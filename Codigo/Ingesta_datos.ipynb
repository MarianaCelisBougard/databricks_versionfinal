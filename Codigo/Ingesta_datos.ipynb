{
 "cells": [
  {
   "cell_type": "markdown",
   "metadata": {
    "application/vnd.databricks.v1+cell": {
     "cellMetadata": {},
     "inputWidgets": {},
     "nuid": "695dc51d-7da5-46c8-8765-76b7fbdfaf41",
     "showTitle": false,
     "tableResultSettingsMap": {},
     "title": ""
    }
   },
   "source": [
    "### Cuaderno ingesta de datos SECOP"
   ]
  },
  {
   "cell_type": "markdown",
   "metadata": {
    "application/vnd.databricks.v1+cell": {
     "cellMetadata": {},
     "inputWidgets": {},
     "nuid": "ffaccdef-ebcd-4000-ac60-b7fefe13c6e0",
     "showTitle": false,
     "tableResultSettingsMap": {},
     "title": ""
    }
   },
   "source": [
    "Este cuaderno realiza un proceso de ingesta inteligente de datos del SECOP (Sistema Electrónico para la Contratación Pública) directamente desde el portal de datos abiertos de Colombia (`www.datos.gov.co`) utilizando la API de Socrata. Primero, se autentica el acceso con un token seguro y se selecciona dinámicamente el conjunto de datos deseado. Luego, se extraen los registros contractuales para cada entidad estatal (identificada por su NIT) y se almacenan en una tabla Delta (`secop_bronze`). El script realiza la descarga de forma controlada, aplicando reintentos ante errores y almacenando los resultados uno a uno. Además, incluye una segunda etapa que verifica cuáles NITs aún no han sido cargados previamente y solo descarga esos registros faltantes, optimizando así el proceso de actualización incremental y evitando duplicados. Este enfoque garantiza eficiencia, robustez y escalabilidad en la construcción de una capa de datos confiable para análisis posteriores.\n"
   ]
  },
  {
   "cell_type": "code",
   "execution_count": 0,
   "metadata": {
    "application/vnd.databricks.v1+cell": {
     "cellMetadata": {
      "byteLimit": 2048000,
      "rowLimit": 10000
     },
     "inputWidgets": {},
     "nuid": "bf35256b-aa9c-4e8c-b59b-c603868157bb",
     "showTitle": false,
     "tableResultSettingsMap": {},
     "title": ""
    }
   },
   "outputs": [],
   "source": [
    "from sodapy import Socrata\n",
    "\n",
    "#client = Socrata(\"www.datos.gov.co\", None)\n",
    "\n",
    "token = dbutils.secrets.get(\"claves\",\"token_app\")\n",
    "codigo_dataset = dbutils.widgets.get(\"codigo_dataset\").strip()\n",
    "\n",
    "client = Socrata(\"www.datos.gov.co\",str(token),timeout=1000)"
   ]
  },
  {
   "cell_type": "code",
   "execution_count": 0,
   "metadata": {
    "application/vnd.databricks.v1+cell": {
     "cellMetadata": {
      "byteLimit": 2048000,
      "rowLimit": 10000
     },
     "inputWidgets": {},
     "nuid": "0f0758da-e08c-496d-8f9b-d1f9e834589b",
     "showTitle": false,
     "tableResultSettingsMap": {},
     "title": ""
    }
   },
   "outputs": [],
   "source": [
    "df_secop_id=spark.table(\"main.diplomado_datos.ids_contratos_procesos\")\n",
    "lista_entidades=df_secop_id.select(\"nit_de_la_entidad\").distinct().collect()\n",
    "len(list(map(lambda x: x.nit_de_la_entidad,lista_entidades)))"
   ]
  },
  {
   "cell_type": "code",
   "execution_count": 0,
   "metadata": {
    "application/vnd.databricks.v1+cell": {
     "cellMetadata": {
      "byteLimit": 2048000,
      "rowLimit": 10000
     },
     "inputWidgets": {},
     "nuid": "fc347c27-c67b-4af9-a181-9ca46f5beaf1",
     "showTitle": false,
     "tableResultSettingsMap": {},
     "title": ""
    }
   },
   "outputs": [],
   "source": [
    "import time\n",
    "\n",
    "mode_write = \"overwrite\"\n",
    "reintentos = 5\n",
    "\n",
    "for entidad in lista_entidades:\n",
    "  intentos = 0\n",
    "  while intentos < reintentos:\n",
    "    try:\n",
    "      query=\"\"\"\n",
    "      SELECT * WHERE nit_de_la_entidad = '{0}'\n",
    "      \"\"\".format(entidad.nit_de_la_entidad)\n",
    "      print(query)\n",
    "      results_entidad=client.get(codigo_dataset,query=query)\n",
    "      df_total=spark.createDataFrame(results_entidad)\n",
    "      df_total.write \\\n",
    "        .format(\"delta\") \\\n",
    "        .mode(mode_write) \\\n",
    "        .option(\"overwriteSchema\", \"true\") \\\n",
    "        .saveAsTable(\"main.diplomado_datos.secop_bronze\")\n",
    "      mode_write = \"append\"\n",
    "      break\n",
    "    except Exception as e:\n",
    "      intentos += 1\n",
    "      time.sleep(10)\n",
    "      print(\"Error: {0}\".format(e))\n",
    "\n",
    "\n",
    "print(\"Se cargaron todos los contratos\")"
   ]
  },
  {
   "cell_type": "code",
   "execution_count": 0,
   "metadata": {
    "application/vnd.databricks.v1+cell": {
     "cellMetadata": {
      "byteLimit": 2048000,
      "rowLimit": 10000
     },
     "inputWidgets": {},
     "nuid": "3ff088f6-f57a-46c6-9820-7185f1fda9aa",
     "showTitle": false,
     "tableResultSettingsMap": {},
     "title": ""
    }
   },
   "outputs": [],
   "source": [
    "# Cargar los NITs de la tabla original mínima\n",
    "df_ids = spark.table(\"main.diplomado_datos.ids_contratos_procesos\")\n",
    "lista_entidades = df_ids.select(\"nit_de_la_entidad\").distinct().collect()\n",
    "\n",
    "# Cargar los NITs que ya se han cargado en bronze\n",
    "df_bronze = spark.table(\"main.diplomado_datos.secop_bronze\")\n",
    "nits_cargados = [row[\"nit_de_la_entidad\"] for row in df_bronze.select(\"nit_de_la_entidad\").distinct().collect()]\n",
    "\n",
    "# Filtrar los que aún no han sido cargados\n",
    "nits_faltantes = [x.nit_de_la_entidad for x in lista_entidades if x.nit_de_la_entidad not in nits_cargados]\n",
    "\n",
    "print(f\"🔍 NITs faltantes por cargar: {len(nits_faltantes)}\")\n",
    "\n",
    "# ======================================\n",
    "# Cargar solo los NITs faltantes (reintentos por cada uno)\n",
    "# ======================================\n",
    "from time import sleep\n",
    "\n",
    "modo_escritura = \"append\"  # Ya no es overwrite\n",
    "reintentos = 5\n",
    "\n",
    "for nit in nits_faltantes:\n",
    "    intentos = 0\n",
    "    while intentos < reintentos:\n",
    "        try:\n",
    "            query = f\"SELECT * WHERE nit_de_la_entidad = '{nit}'\"\n",
    "            print(query)\n",
    "            resultados = client.get(codigo_dataset, query=query)\n",
    "            df_temp = spark.createDataFrame(resultados)\n",
    "\n",
    "            df_temp.write \\\n",
    "                .format(\"delta\") \\\n",
    "                .mode(modo_escritura) \\\n",
    "                .option(\"overwriteSchema\", \"true\") \\\n",
    "                .saveAsTable(\"main.diplomado_datos.secop_bronze\")\n",
    "\n",
    "            break  # Salta al siguiente NIT\n",
    "        except Exception as e:\n",
    "            intentos += 1\n",
    "            print(f\"Error al cargar NIT {nit} (intento {intentos}): {e}\")\n",
    "            sleep(10)\n",
    "\n",
    "print(\"✅ Finalizó la carga de los registros faltantes.\")"
   ]
  }
 ],
 "metadata": {
  "application/vnd.databricks.v1+notebook": {
   "computePreferences": {
    "hardware": {
     "accelerator": null,
     "gpuPoolId": null,
     "memory": null
    }
   },
   "dashboards": [],
   "environmentMetadata": {
    "base_environment": "",
    "dependencies": [
     "sodapy==2.2.0"
    ],
    "environment_version": "2"
   },
   "inputWidgetPreferences": null,
   "language": "python",
   "notebookMetadata": {
    "pythonIndentUnit": 4
   },
   "notebookName": "Ingesta_datos",
   "widgets": {
    "codigo_dataset": {
     "currentValue": "rpmr-utcd",
     "nuid": "38cb30a7-f7a2-42a7-87f1-bb2b2100b9bd",
     "typedWidgetInfo": {
      "autoCreated": false,
      "defaultValue": "",
      "label": "",
      "name": "codigo_dataset",
      "options": {
       "widgetDisplayType": "Text",
       "validationRegex": null
      },
      "parameterDataType": "String"
     },
     "widgetInfo": {
      "widgetType": "text",
      "defaultValue": "",
      "label": "",
      "name": "codigo_dataset",
      "options": {
       "widgetType": "text",
       "autoCreated": false,
       "validationRegex": null
      }
     }
    },
    "token_app": {
     "currentValue": "KwZhcbkekhw5FpAUWVnzvIdVA",
     "nuid": "752dacf4-55d1-4373-878f-efd739db9e72",
     "typedWidgetInfo": {
      "autoCreated": false,
      "defaultValue": "",
      "label": "",
      "name": "token_app",
      "options": {
       "widgetDisplayType": "Text",
       "validationRegex": null
      },
      "parameterDataType": "String"
     },
     "widgetInfo": {
      "widgetType": "text",
      "defaultValue": "",
      "label": "",
      "name": "token_app",
      "options": {
       "widgetType": "text",
       "autoCreated": false,
       "validationRegex": null
      }
     }
    }
   }
  },
  "language_info": {
   "name": "python"
  }
 },
 "nbformat": 4,
 "nbformat_minor": 0
}

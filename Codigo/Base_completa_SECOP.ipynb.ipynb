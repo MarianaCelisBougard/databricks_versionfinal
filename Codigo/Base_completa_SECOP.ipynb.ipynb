{
 "cells": [
  {
   "cell_type": "code",
   "execution_count": 0,
   "metadata": {
    "application/vnd.databricks.v1+cell": {
     "cellMetadata": {
      "byteLimit": 2048000,
      "rowLimit": 10000
     },
     "inputWidgets": {},
     "nuid": "045eb249-cb72-4dc9-9051-42ac35878fb7",
     "showTitle": false,
     "tableResultSettingsMap": {},
     "title": ""
    }
   },
   "outputs": [],
   "source": [
    "# Lista de variables(principales y las faltantes)\n",
    "\n",
    "variables_principales = [\"documento_proveedor\", \"estado_del_proceso\", \"numero_de_proceso\", \"nit_de_la_entidad\", \"numero_del_contrato\"]\n",
    "variables_complementarias = [\"departamento_entidad\", \"nombre_de_la_entidad\", \"fecha_de_firma_del_contrato\", \"objeto_a_contratar\", \n",
    "                            \"url_contrato\", \"municipio_entidad\", \"valor_contrato\", \"tipo_documento_proveedor\", \n",
    "                            \"modalidad_de_contrataci_n\", \"codigo_entidad_en_secop\", \"origen\", \"nivel_entidad\", \n",
    "                            \"fecha_inicio_ejecuci_n\", \"fecha_fin_ejecuci_n\", \"nombre_del_contratista\", \n",
    "                            \"tipo_de_contrato\", \"objeto_del_proceso\", \"forma_de_pago\"]\n",
    "\n",
    "# Unificación para consulta\n",
    "variables_totales = variables_principales + variables_complementarias\n",
    "columnas_sql = \", \".join(variables_totales)"
   ]
  },
  {
   "cell_type": "code",
   "execution_count": 0,
   "metadata": {
    "application/vnd.databricks.v1+cell": {
     "cellMetadata": {
      "byteLimit": 2048000,
      "rowLimit": 10000
     },
     "inputWidgets": {},
     "nuid": "64585e28-da92-4be9-9578-b51c110536af",
     "showTitle": false,
     "tableResultSettingsMap": {},
     "title": ""
    }
   },
   "outputs": [],
   "source": [
    "from sodapy import Socrata\n",
    "from pyspark.sql import SparkSession\n",
    "import time\n",
    "\n",
    "# Inicialización de SparkSession y cliente Socrata\n",
    "spark = SparkSession.builder.getOrCreate()\n",
    "cliente_secop = Socrata(\"www.datos.gov.co\", app_token)\n",
    "\n",
    "# Parámetros para paginar la consulta\n",
    "tamano_lote = 50000\n",
    "avance = 0\n",
    "modo_escritura = \"overwrite\"\n",
    "intentos_maximos = 4\n",
    "\n",
    "# Descarga y carga por bloques\n",
    "while True:\n",
    "    errores = 0\n",
    "    while errores < intentos_maximos:\n",
    "        try:\n",
    "            consulta = f\"SELECT numero_del_contrato, numero_de_proceso, nit_de_la_entidad, documento_proveedor, estado_del_proceso LIMIT {tamano_lote} OFFSET {avance}\"\n",
    "            print(f\"Cargando registros desde offset: {avance}\")\n",
    "            respuesta = cliente_secop.get(codigo_dataset, query=consulta)\n",
    "\n",
    "            if not respuesta:\n",
    "                print(\" Fin de la extracción. No se encontraron más registros.\")\n",
    "                break\n",
    "\n",
    "            df_parcial = spark.createDataFrame(respuesta)\n",
    "            df_parcial.write \\\n",
    "                .format(\"delta\") \\\n",
    "                .mode(modo_escritura) \\\n",
    "                .option(\"overwriteSchema\", \"true\") \\\n",
    "                .saveAsTable(\"main.diplomado_datos.tabla_restante_secop\")\n",
    "\n",
    "            print(f\"Bloque de {len(respuesta)} registros cargado correctamente.\")\n",
    "\n",
    "            avance += tamano_lote\n",
    "            modo_escritura = \"append\"\n",
    "            break\n",
    "        except Exception as error:\n",
    "            errores += 1\n",
    "            print(f\"Error en intento {errores}: {error}\")\n",
    "            time.sleep(10)\n",
    "    else:\n",
    "        print(\" Se agotaron los intentos en este bloque. Terminando proceso.\")\n",
    "        break\n",
    "\n",
    "print(\"Todos los datos fueron cargados en la tabla.\")\n"
   ]
  },
  {
   "cell_type": "code",
   "execution_count": 0,
   "metadata": {
    "application/vnd.databricks.v1+cell": {
     "cellMetadata": {},
     "inputWidgets": {},
     "nuid": "07d5204e-4868-4d9e-bf9c-dfa1a176d2b1",
     "showTitle": false,
     "tableResultSettingsMap": {},
     "title": ""
    }
   },
   "outputs": [],
   "source": [
    "# Agregar una columna hash que combine los campos clave incluyendo estado_del_proceso\n",
    "col_combinada = concat_ws(\"||\",\n",
    "    col(\"numero_del_contrato\"),\n",
    "    col(\"nit_de_la_entidad\"),\n",
    "    col(\"documento_proveedor\"),\n",
    "    col(\"estado_del_proceso\").\n",
    "    col(\"numero_de_proceso\")\n",
    ")\n",
    "\n",
    "tabla_identificada = tabla_tmp_faltantes.withColumn(\"identificador_hash_estado\", sha2(col_combinada, 256))"
   ]
  },
  {
   "cell_type": "code",
   "execution_count": 0,
   "metadata": {
    "application/vnd.databricks.v1+cell": {
     "cellMetadata": {},
     "inputWidgets": {},
     "nuid": "8114101e-9afa-44e0-8262-f6b6cb8283a1",
     "showTitle": false,
     "tableResultSettingsMap": {},
     "title": ""
    }
   },
   "outputs": [],
   "source": [
    "from pyspark.sql.functions import sha2, concat_ws, col\n",
    "\n",
    "# Traer tabla con registros faltantes\n",
    "restantes_df = spark.table(\"main.diplomado_datos.tabla_restante_secop\")\n",
    "\n",
    "# Generar clave hash combinando campos relevantes + estado\n",
    "restantes_df = restantes_df.withColumn(\"id_unico_con_estado\", sha2(concat_ws(\"||\",col(\"documento_proveedor\"),col(\"estado_del_proceso\"),col(\"numero_de_proceso\"),col(\"nit_de_la_entidad\"),col(\"numero_del_contrato\")),256))\n",
    "\n",
    "# Verificar los resultados generados\n",
    "restantes_df.select(\"id_unico_con_estado\").show(5)\n",
    "     "
   ]
  },
  {
   "cell_type": "code",
   "execution_count": 0,
   "metadata": {
    "application/vnd.databricks.v1+cell": {
     "cellMetadata": {},
     "inputWidgets": {},
     "nuid": "dc6228c1-826d-4aa3-9566-c5525a488628",
     "showTitle": false,
     "tableResultSettingsMap": {},
     "title": ""
    }
   },
   "outputs": [],
   "source": [
    "# Identificar columnas que no están repetidas (salvo la llave hash)\n",
    "columnas_exclusivas = [campo for campo in restantes_df.columns if campo not in df_ids.columns or campo == \"id_unico_con_estado\"]\n",
    "\n",
    "# Crear nuevo DataFrame solo con columnas únicas\n",
    "df_limpio_restante = restantes_df.select(columnas_exclusivas)\n",
    "\n",
    "# Mostrar lista final de columnas incluidas\n",
    "print(f\"Variables finales incluidas: {df_limpio_restante.columns}\")"
   ]
  },
  {
   "cell_type": "code",
   "execution_count": 0,
   "metadata": {
    "application/vnd.databricks.v1+cell": {
     "cellMetadata": {},
     "inputWidgets": {},
     "nuid": "b7980e76-0c5b-4624-99fd-2550fbe92975",
     "showTitle": false,
     "tableResultSettingsMap": {},
     "title": ""
    }
   },
   "outputs": [],
   "source": [
    "\n",
    "# Combinar los datos a través de la llave hash generada previamente\n",
    "df_completo_secop = df_ids.join(\n",
    "    df_limpio_restante.dropDuplicates([\"id_unico_con_estado\"]),\n",
    "    on=\"id_unico_con_estado\",\n",
    "    how=\"left\"\n",
    ")"
   ]
  },
  {
   "cell_type": "code",
   "execution_count": 0,
   "metadata": {
    "application/vnd.databricks.v1+cell": {
     "cellMetadata": {},
     "inputWidgets": {},
     "nuid": "1d8fe0a7-f7e5-41e6-acc2-a5eef7325e89",
     "showTitle": false,
     "tableResultSettingsMap": {},
     "title": ""
    }
   },
   "outputs": [],
   "source": [
    "# Guardar el DataFrame consolidado como tabla Delta\n",
    "df_completo_secop.write \\\n",
    "    .format(\"delta\") \\\n",
    "    .mode(\"overwrite\") \\\n",
    "    .option(\"overwriteSchema\", \"true\") \\\n",
    "    .saveAsTable(\"main.diplomado_datos.tabla_final_SECOP\")"
   ]
  }
 ],
 "metadata": {
  "application/vnd.databricks.v1+notebook": {
   "computePreferences": {
    "hardware": {
     "accelerator": null,
     "gpuPoolId": null,
     "memory": null
    }
   },
   "dashboards": [],
   "environmentMetadata": {
    "base_environment": "",
    "dependencies": [
     "sodapy==2.2.0"
    ],
    "environment_version": "2"
   },
   "inputWidgetPreferences": null,
   "language": "python",
   "notebookMetadata": {
    "pythonIndentUnit": 4
   },
   "notebookName": "Base_completa_SECOP.ipynb",
   "widgets": {
    "codigo_dataset": {
     "currentValue": "rpmr-utcd",
     "nuid": "e93da071-765b-4aeb-a2ac-151b730ebd52",
     "typedWidgetInfo": {
      "autoCreated": false,
      "defaultValue": "",
      "label": "",
      "name": "codigo_dataset",
      "options": {
       "widgetDisplayType": "Text",
       "validationRegex": null
      },
      "parameterDataType": "String"
     },
     "widgetInfo": {
      "widgetType": "text",
      "defaultValue": "",
      "label": "",
      "name": "codigo_dataset",
      "options": {
       "widgetType": "text",
       "autoCreated": false,
       "validationRegex": null
      }
     }
    },
    "token_app": {
     "currentValue": "KwZhcbkekhw5FpAUWVnzvIdVA",
     "nuid": "70252c24-d023-4b01-92d5-44509d079423",
     "typedWidgetInfo": {
      "autoCreated": false,
      "defaultValue": "",
      "label": "",
      "name": "token_app",
      "options": {
       "widgetDisplayType": "Text",
       "validationRegex": null
      },
      "parameterDataType": "String"
     },
     "widgetInfo": {
      "widgetType": "text",
      "defaultValue": "",
      "label": "",
      "name": "token_app",
      "options": {
       "widgetType": "text",
       "autoCreated": false,
       "validationRegex": null
      }
     }
    }
   }
  },
  "language_info": {
   "name": "python"
  }
 },
 "nbformat": 4,
 "nbformat_minor": 0
}

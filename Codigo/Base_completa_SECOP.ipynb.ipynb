{
 "cells": [
  {
   "cell_type": "markdown",
   "metadata": {
    "application/vnd.databricks.v1+cell": {
     "cellMetadata": {},
     "inputWidgets": {},
     "nuid": "24b7f8c1-4271-4583-9234-ae66198a778a",
     "showTitle": false,
     "tableResultSettingsMap": {},
     "title": ""
    }
   },
   "source": [
    "\n",
    "###  Descripción del procedimiento \n",
    "\n",
    "En esta fase del proceso se abordaron dos tareas clave para garantizar la integridad y consistencia del conjunto de datos consolidado:\n",
    "\n",
    "##### 1. **Generación del identificador único `id_sha2`**\n",
    "\n",
    "Se construyó una nueva columna denominada `id_sha2` utilizando la función criptográfica `sha2`, que genera un hash a partir de la concatenación de los campos más relevantes del contrato (como código del proceso, NIT de la entidad, proveedor, objeto del contrato, valor y fecha). Esta medida permite:\n",
    "\n",
    "* Asignar un identificador único a cada contrato\n",
    "* Detectar duplicados o inconsistencias en futuros cruces\n",
    "* Mantener la trazabilidad de los registros en procesos de auditoría\n",
    "\n",
    "El resultado fue almacenado en la tabla `secop_id_bronze`, que ahora cuenta con este nuevo campo como clave técnica de identificación.\n",
    "\n",
    "---\n",
    "\n",
    "##### 2. **Comparación de esquemas entre tablas**\n",
    "\n",
    "Para asegurar que no haya pérdida de información ni errores en futuras uniones o migraciones, se realizó una comparación estructural entre:\n",
    "\n",
    "* La tabla base de referencia (`secop_bronze`)\n",
    "* La tabla transformada con identificador (`secop_id_bronze`)\n",
    "\n",
    "Se listaron todas las columnas de cada tabla utilizando la metadata del catálogo Delta (`information_schema.columns`) y se detectaron columnas faltantes en `secop_id_bronze`. Esta verificación es esencial para:\n",
    "\n",
    "* Validar consistencia estructural\n",
    "* Detectar errores de transformación\n",
    "* Prevenir problemas al hacer consultas posteriores o generar dashboards\n",
    "\n"
   ]
  },
  {
   "cell_type": "code",
   "execution_count": 0,
   "metadata": {
    "application/vnd.databricks.v1+cell": {
     "cellMetadata": {
      "byteLimit": 2048000,
      "rowLimit": 10000
     },
     "inputWidgets": {},
     "nuid": "7aa35247-40d3-40f7-abfe-47b20c6522b8",
     "showTitle": false,
     "tableResultSettingsMap": {},
     "title": ""
    }
   },
   "outputs": [],
   "source": [
    "#!/usr/bin/env python\n",
    "import pandas as pd\n",
    "from sodapy import Socrata\n",
    "\n",
    "#client = Socrata(\"www.datos.gov.co\", None)\n",
    "\n",
    "token = dbutils.secrets.get(\"claves\",\"token_app\")\n",
    "codigo_dataset = dbutils.widgets.get(\"codigo_dataset\")\n",
    "# Example authenticated client (needed for non-public datasets):\n",
    "client = Socrata(\"www.datos.gov.co\", str(token), timeout=100)"
   ]
  },
  {
   "cell_type": "code",
   "execution_count": 0,
   "metadata": {
    "application/vnd.databricks.v1+cell": {
     "cellMetadata": {
      "byteLimit": 2048000,
      "rowLimit": 10000
     },
     "inputWidgets": {},
     "nuid": "393901c0-713c-490c-befc-088f1844a961",
     "showTitle": false,
     "tableResultSettingsMap": {},
     "title": ""
    }
   },
   "outputs": [],
   "source": [
    "import time\n",
    "# 3. Parámetros de paginación\n",
    "limit = 500000\n",
    "offset = 0\n",
    "write_mode = \"overwrite\"\n",
    "reintentos=5\n",
    "\n",
    "print(f\"Iniciando carga por lotes para el dataset: {codigo_dataset}\")\n",
    "\n",
    "# 4. Bucle para obtener y cargar los datos por lotes\n",
    "while True:\n",
    "    intentos = 0\n",
    "\n",
    "    while intentos < reintentos:\n",
    "        try:\n",
    "            print(f\"Obteniendo y cargando lote {offset}...\")\n",
    "            # Construye y ejecuta la consulta para el lote actual\n",
    "            query = f\"SELECT numero_del_contrato, numero_de_proceso, nit_de_la_entidad, documento_proveedor, estado_del_proceso LIMIT {limit} OFFSET {offset}\"\n",
    "            results = client.get(codigo_dataset, query=query) \n",
    "\n",
    "            # Si la API no devuelve más registros, se termina el bucle\n",
    "            if not results:\n",
    "                print(\"Carga de datos finalizada.\")\n",
    "                break\n",
    "\n",
    "            # Convierte el lote a un DataFrame de Spark y lo escribe en la tabla Delta\n",
    "            spark.createDataFrame(results).write \\\n",
    "                .format(\"delta\") \\\n",
    "                .mode(write_mode) \\\n",
    "                .option(\"overwriteSchema\", \"true\") \\\n",
    "                .saveAsTable(\"main.diplomado_datos.ids_contratos_procesos\")\n",
    "\n",
    "            print(f\"Lote de {len(results)} registros desde offset {offset} cargado.\")\n",
    "\n",
    "            # Se cambia a modo 'append' para las siguientes iteraciones y se incrementa el offset\n",
    "            write_mode = \"append\"\n",
    "            offset += limit\n",
    "            break\n",
    "\n",
    "        except Exception as e:\n",
    "            intentos +=1\n",
    "            print(\"Error al obtener o cargar el lote:\", e)\n",
    "            print(f\"Intento {intentos} de {reintentos}...\")\n",
    "            time.sleep(20)\n",
    "    else:\n",
    "        print(\"Se alcanzó el número máximo de intentos. Terminando la carga.\")\n",
    "        break"
   ]
  },
  {
   "cell_type": "code",
   "execution_count": 0,
   "metadata": {
    "application/vnd.databricks.v1+cell": {
     "cellMetadata": {
      "byteLimit": 2048000,
      "rowLimit": 10000
     },
     "inputWidgets": {},
     "nuid": "2b50c196-1f2f-463b-bf51-8e24519494d8",
     "showTitle": false,
     "tableResultSettingsMap": {},
     "title": ""
    }
   },
   "outputs": [],
   "source": [
    "df_secop_id=spark.table(\"main.diplomado_datos.ids_contratos_procesos\")\n",
    "df_secop_id.count()\n",
    "     "
   ]
  },
  {
   "cell_type": "code",
   "execution_count": 0,
   "metadata": {
    "application/vnd.databricks.v1+cell": {
     "cellMetadata": {
      "byteLimit": 2048000,
      "rowLimit": 10000
     },
     "inputWidgets": {},
     "nuid": "e415478b-de35-4229-be22-1848eab8b915",
     "showTitle": false,
     "tableResultSettingsMap": {},
     "title": ""
    }
   },
   "outputs": [],
   "source": [
    "# Importar las funciones necesarias de PySpark\n",
    "from pyspark.sql.functions import sha2, concat_ws, col\n",
    "\n",
    "# 1. Cargar la tabla correcta desde el catálogo a un DataFrame\n",
    "# Se asume que esta es la tabla que contiene las columnas que mencionaste.\n",
    "df_secop_id = spark.table(\"main.diplomado_datos.ids_contratos_procesos\")\n",
    "\n",
    "# 2. Definir la lista corregida de columnas para el identificador único\n",
    "columnas_para_hash = [\n",
    "    \"numero_del_contrato\",\n",
    "    \"numero_de_proceso\",\n",
    "    \"nit_de_la_entidad\",\n",
    "    \"documento_proveedor\",\n",
    "    \"estado_del_proceso\"\n",
    "]\n",
    "     "
   ]
  },
  {
   "cell_type": "code",
   "execution_count": 0,
   "metadata": {
    "application/vnd.databricks.v1+cell": {
     "cellMetadata": {
      "byteLimit": 2048000,
      "rowLimit": 10000
     },
     "inputWidgets": {},
     "nuid": "2594d77e-0160-452e-83c1-c82586c7e9db",
     "showTitle": false,
     "tableResultSettingsMap": {},
     "title": ""
    }
   },
   "outputs": [],
   "source": [
    "# 3. Añadir la nueva columna 'id_unico'\n",
    "# Se concatenan las columnas clave con un separador y se les aplica un hash SHA-2.\n",
    "df_con_id = df_secop_id.withColumn(\n",
    "    \"id_unico_con_estado\",\n",
    "    sha2(concat_ws(\"||\", *[col(c) for c in columnas_para_hash]), 256)\n",
    ")\n",
    "\n",
    "columnas_para_hash_se = [\n",
    "    \"numero_del_contrato\",\n",
    "    \"numero_de_proceso\",\n",
    "    \"nit_de_la_entidad\",\n",
    "    \"documento_proveedor\"\n",
    "]\n",
    "df_con_id = df_con_id.withColumn(\n",
    "    \"id_unico_sin_estado\",\n",
    "    sha2(concat_ws(\"||\", *[col(c) for c in columnas_para_hash_se]), 256)\n",
    ")\n",
    "df_con_id.display()"
   ]
  },
  {
   "cell_type": "code",
   "execution_count": 0,
   "metadata": {
    "application/vnd.databricks.v1+cell": {
     "cellMetadata": {
      "byteLimit": 2048000,
      "rowLimit": 10000
     },
     "inputWidgets": {},
     "nuid": "ae3bebd5-3735-4a87-87ef-30ed39f436de",
     "showTitle": false,
     "tableResultSettingsMap": {},
     "title": ""
    }
   },
   "outputs": [],
   "source": [
    "df_con_id.write \\\n",
    "    .format(\"delta\") \\\n",
    "    .mode(\"overwrite\") \\\n",
    "    .option(\"overwriteSchema\", \"true\") \\\n",
    "    .saveAsTable(\"main.diplomado_datos.secop_id_bronze\")"
   ]
  },
  {
   "cell_type": "code",
   "execution_count": 0,
   "metadata": {
    "application/vnd.databricks.v1+cell": {
     "cellMetadata": {
      "byteLimit": 2048000,
      "implicitDf": true,
      "rowLimit": 10000
     },
     "inputWidgets": {},
     "nuid": "58ba918d-d5b6-4386-bea4-38f053a7719c",
     "showTitle": false,
     "tableResultSettingsMap": {},
     "title": ""
    }
   },
   "outputs": [],
   "source": [
    "%sql\n",
    "-- Explorar dataset\n",
    "SELECT * FROM main.diplomado_datos.secop_id_bronze LIMIT 10;"
   ]
  },
  {
   "cell_type": "code",
   "execution_count": 0,
   "metadata": {
    "application/vnd.databricks.v1+cell": {
     "cellMetadata": {
      "byteLimit": 2048000,
      "rowLimit": 10000
     },
     "inputWidgets": {},
     "nuid": "d8e88856-112b-41e0-a3de-c202da8c8337",
     "showTitle": false,
     "tableResultSettingsMap": {},
     "title": ""
    }
   },
   "outputs": [],
   "source": [
    "# Columnas clave iniciales\n",
    "columnas_clave = [\n",
    "    \"numero_del_contrato\",\n",
    "    \"numero_de_proceso\",\n",
    "    \"nit_de_la_entidad\",\n",
    "    \"documento_proveedor\",\n",
    "    \"estado_del_proceso\"\n",
    "]\n",
    "\n",
    "# lo que faltar\n",
    "columnas_faltantes = [\n",
    "    \"nivel_entidad\",\n",
    "    \"codigo_entidad_en_secop\",\n",
    "    \"nombre_de_la_entidad\",\n",
    "    \"departamento_entidad\",\n",
    "    \"municipio_entidad\",\n",
    "    \"modalidad_de_contrataci_n\",\n",
    "    \"objeto_a_contratar\",\n",
    "    \"objeto_del_proceso\",\n",
    "    \"tipo_de_contrato\",\n",
    "    \"fecha_de_firma_del_contrato\",\n",
    "    \"fecha_inicio_ejecuci_n\",\n",
    "    \"fecha_fin_ejecuci_n\",\n",
    "    \"valor_contrato\",\n",
    "    \"nom_raz_social_contratista\",\n",
    "    \"url_contrato\",\n",
    "    \"origen\",\n",
    "    \"tipo_documento_proveedor\"\n",
    "]\n",
    "\n",
    "columnas_total = columnas_clave + columnas_faltantes\n",
    "\n",
    "query_cols = \", \".join(columnas_total)"
   ]
  },
  {
   "cell_type": "code",
   "execution_count": 0,
   "metadata": {
    "application/vnd.databricks.v1+cell": {
     "cellMetadata": {
      "byteLimit": 2048000,
      "rowLimit": 10000
     },
     "inputWidgets": {},
     "nuid": "8f772dd7-80f5-4396-9e04-1cbe73e41521",
     "showTitle": false,
     "tableResultSettingsMap": {},
     "title": ""
    }
   },
   "outputs": [],
   "source": [
    "from sodapy import Socrata\n",
    "import time\n",
    "\n",
    "### traer por lotes\n",
    "\n",
    "limit = 500000\n",
    "offset = 0\n",
    "write_mode = \"overwrite\"\n",
    "reintentos = 5\n",
    "\n",
    "while True:\n",
    "    intentos = 0\n",
    "    \n",
    "    while intentos < reintentos:\n",
    "        try:\n",
    "            print(f\"Obteniendo y cargando lote con offset {offset} ...\")\n",
    "\n",
    "            # Construye la query\n",
    "            query = f\"SELECT {query_cols} LIMIT {limit} OFFSET {offset}\"\n",
    "            \n",
    "            results = client.get(codigo_dataset, query=query)\n",
    "\n",
    "            if not results:\n",
    "                print(\"✅ No hay más registros que descargar.\")\n",
    "                break\n",
    "\n",
    "            # Crea Spark DataFrame\n",
    "            df_restante = spark.createDataFrame(results)\n",
    "\n",
    "            # Guarda en Delta (en tabla intermedia)\n",
    "            df_restante.write \\\n",
    "                .format(\"delta\") \\\n",
    "                .mode(write_mode) \\\n",
    "                .option(\"overwriteSchema\", \"true\") \\\n",
    "                .saveAsTable(\"main.diplomado_datos.secop_restante_tmp\")\n",
    "\n",
    "            print(f\"✓ Lote de {len(results)} registros cargado.\")\n",
    "\n",
    "            # A partir del segundo lote, usa append\n",
    "            write_mode = \"append\"\n",
    "            offset += limit\n",
    "            \n",
    "\n",
    "        except Exception as e:\n",
    "            intentos += 1\n",
    "            print(f\"Error en intento {intentos}: {e}\")\n",
    "    \n"
   ]
  },
  {
   "cell_type": "code",
   "execution_count": 0,
   "metadata": {
    "application/vnd.databricks.v1+cell": {
     "cellMetadata": {
      "byteLimit": 2048000,
      "rowLimit": 10000
     },
     "inputWidgets": {},
     "nuid": "4e59d2f3-b84a-447c-8d5a-4f470b112fc6",
     "showTitle": false,
     "tableResultSettingsMap": {},
     "title": ""
    }
   },
   "outputs": [],
   "source": [
    "from pyspark.sql.functions import sha2, concat_ws, col\n",
    "\n",
    "# tabla restante\n",
    "df_restante = spark.table(\"main.diplomado_datos.secop_restante_tmp\")\n",
    "\n",
    "# id_unico_con_estado\n",
    "df_restante = df_restante.withColumn(\n",
    "    \"id_unico_con_estado\",\n",
    "    sha2(\n",
    "        concat_ws(\"||\",\n",
    "                  col(\"numero_del_contrato\"),\n",
    "                  col(\"numero_de_proceso\"),\n",
    "                  col(\"nit_de_la_entidad\"),\n",
    "                  col(\"documento_proveedor\"),\n",
    "                  col(\"estado_del_proceso\")\n",
    "        ), 256\n",
    "    )\n",
    ")\n",
    "\n",
    "df_restante.select(\"id_unico_con_estado\").show(5)"
   ]
  },
  {
   "cell_type": "code",
   "execution_count": 0,
   "metadata": {
    "application/vnd.databricks.v1+cell": {
     "cellMetadata": {
      "byteLimit": 2048000,
      "rowLimit": 10000
     },
     "inputWidgets": {},
     "nuid": "70fa1304-fa97-4d63-8f79-30d25bb085cd",
     "showTitle": false,
     "tableResultSettingsMap": {},
     "title": ""
    }
   },
   "outputs": [],
   "source": [
    "# columnas unicas (excluyendo duplicadas)\n",
    "columnas_restante = [\n",
    "    c for c in df_restante.columns\n",
    "    if c not in df_ids.columns or c == \"id_unico_con_estado\"\n",
    "]\n",
    "\n",
    "df_restante_reduced = df_restante.select(columnas_restante)\n",
    "\n",
    "print(f\"Columnas seleccionadas en df_restante_reduced: {df_restante_reduced.columns}\")"
   ]
  },
  {
   "cell_type": "code",
   "execution_count": 0,
   "metadata": {
    "application/vnd.databricks.v1+cell": {
     "cellMetadata": {},
     "inputWidgets": {},
     "nuid": "3af88ba1-357a-44d9-be46-76e235a11319",
     "showTitle": false,
     "tableResultSettingsMap": {},
     "title": ""
    }
   },
   "outputs": [],
   "source": [
    "# join usando el id único\n",
    "df_final = df_ids.join(\n",
    "    df_restante_reduced.dropDuplicates([\"id_unico_con_estado\"]),\n",
    "    on=\"id_unico_con_estado\",\n",
    "    how=\"left\"\n",
    ")"
   ]
  },
  {
   "cell_type": "code",
   "execution_count": 0,
   "metadata": {
    "application/vnd.databricks.v1+cell": {
     "cellMetadata": {},
     "inputWidgets": {},
     "nuid": "5bed1c2c-b2db-48b5-8452-ad7b635ecdbf",
     "showTitle": false,
     "tableResultSettingsMap": {},
     "title": ""
    }
   },
   "outputs": [],
   "source": [
    "df_final.write \\\n",
    "    .format(\"delta\") \\\n",
    "    .mode(\"overwrite\") \\\n",
    "    .option(\"overwriteSchema\", \"true\") \\\n",
    "    .saveAsTable(\"main.diplomado_datos.secop_completo\")"
   ]
  },
  {
   "cell_type": "code",
   "execution_count": 0,
   "metadata": {
    "application/vnd.databricks.v1+cell": {
     "cellMetadata": {},
     "inputWidgets": {},
     "nuid": "18a8f3ef-5fa1-4daf-87e4-6c78f720b9e7",
     "showTitle": false,
     "tableResultSettingsMap": {},
     "title": ""
    }
   },
   "outputs": [],
   "source": [
    "%sql\n",
    "SELECT COUNT(*) AS total_filas\n",
    "FROM main.diplomado_datos.secop_completo;"
   ]
  },
  {
   "cell_type": "code",
   "execution_count": 0,
   "metadata": {
    "application/vnd.databricks.v1+cell": {
     "cellMetadata": {},
     "inputWidgets": {},
     "nuid": "2e188bce-71b7-4563-ac12-b5b0ed32fb26",
     "showTitle": false,
     "tableResultSettingsMap": {},
     "title": ""
    }
   },
   "outputs": [],
   "source": [
    "%sql\n",
    "DESCRIBE main.diplomado_datos.secop_completo;"
   ]
  },
  {
   "cell_type": "code",
   "execution_count": 0,
   "metadata": {
    "application/vnd.databricks.v1+cell": {
     "cellMetadata": {},
     "inputWidgets": {},
     "nuid": "be0cdfa5-624b-4764-86ea-faeaa12a3893",
     "showTitle": false,
     "tableResultSettingsMap": {},
     "title": ""
    }
   },
   "outputs": [],
   "source": [
    "%sql\n",
    "SELECT *\n",
    "FROM main.diplomado_datos.secop_completo\n",
    "LIMIT 10;"
   ]
  }
 ],
 "metadata": {
  "application/vnd.databricks.v1+notebook": {
   "computePreferences": {
    "hardware": {
     "accelerator": null,
     "gpuPoolId": null,
     "memory": null
    }
   },
   "dashboards": [],
   "environmentMetadata": {
    "base_environment": "",
    "dependencies": [
     "sodapy==2.2.0"
    ],
    "environment_version": "2"
   },
   "inputWidgetPreferences": null,
   "language": "python",
   "notebookMetadata": {
    "mostRecentlyExecutedCommandWithImplicitDF": {
     "commandId": 4863699181558278,
     "dataframes": [
      "_sqldf"
     ]
    },
    "pythonIndentUnit": 4
   },
   "notebookName": "Base_completa_SECOP.ipynb",
   "widgets": {
    "codigo_dataset": {
     "currentValue": "rpmr-utcd",
     "nuid": "e93da071-765b-4aeb-a2ac-151b730ebd52",
     "typedWidgetInfo": {
      "autoCreated": false,
      "defaultValue": "",
      "label": "",
      "name": "codigo_dataset",
      "options": {
       "widgetDisplayType": "Text",
       "validationRegex": null
      },
      "parameterDataType": "String"
     },
     "widgetInfo": {
      "widgetType": "text",
      "defaultValue": "",
      "label": "",
      "name": "codigo_dataset",
      "options": {
       "widgetType": "text",
       "autoCreated": false,
       "validationRegex": null
      }
     }
    },
    "token_app": {
     "currentValue": "KwZhcbkekhw5FpAUWVnzvIdVA",
     "nuid": "70252c24-d023-4b01-92d5-44509d079423",
     "typedWidgetInfo": {
      "autoCreated": false,
      "defaultValue": "",
      "label": "",
      "name": "token_app",
      "options": {
       "widgetDisplayType": "Text",
       "validationRegex": null
      },
      "parameterDataType": "String"
     },
     "widgetInfo": {
      "widgetType": "text",
      "defaultValue": "",
      "label": "",
      "name": "token_app",
      "options": {
       "widgetType": "text",
       "autoCreated": false,
       "validationRegex": null
      }
     }
    }
   }
  },
  "language_info": {
   "name": "python"
  }
 },
 "nbformat": 4,
 "nbformat_minor": 0
}
